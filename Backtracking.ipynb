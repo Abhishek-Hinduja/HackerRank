{
 "cells": [
  {
   "cell_type": "code",
   "execution_count": 3,
   "metadata": {},
   "outputs": [
    {
     "name": "stdout",
     "output_type": "stream",
     "text": [
      "\n",
      "b\n",
      "ba\n",
      "bab\n"
     ]
    }
   ],
   "source": [
    "def solve(ip,op,index):\n",
    "    if index == len(ip):\n",
    "        print(''.join(op))\n",
    "        return\n",
    "    \n",
    "    solve(ip,op,index+1)\n",
    "    op.append(ip[index])\n",
    "    solve(ip,op,index+1)\n",
    "    op.pop()\n",
    "\n",
    "ip = \"ab\"\n",
    "op = []\n",
    "solve(ip,op,0)\n",
    "    "
   ]
  },
  {
   "cell_type": "code",
   "execution_count": 2,
   "metadata": {},
   "outputs": [
    {
     "name": "stdout",
     "output_type": "stream",
     "text": [
      "D R R \n",
      "R D R \n",
      "R R D \n"
     ]
    }
   ],
   "source": [
    "### Printing Grid\n",
    "\n",
    "def solve(x,y,r,c,path):\n",
    "    if x == r-1 and y == c-1:\n",
    "        print(path)\n",
    "        return\n",
    "    \n",
    "    if x == r or y == c:\n",
    "        return\n",
    "    \n",
    "    solve(x+1,y,r,c,path+\"D \")\n",
    "    solve(x,y+1,r,c,path+\"R \")\n",
    "\n",
    "solve(0,0,2,3,\"\")"
   ]
  },
  {
   "cell_type": "code",
   "execution_count": null,
   "metadata": {},
   "outputs": [],
   "source": []
  }
 ],
 "metadata": {
  "kernelspec": {
   "display_name": "Python 3",
   "language": "python",
   "name": "python3"
  },
  "language_info": {
   "codemirror_mode": {
    "name": "ipython",
    "version": 3
   },
   "file_extension": ".py",
   "mimetype": "text/x-python",
   "name": "python",
   "nbconvert_exporter": "python",
   "pygments_lexer": "ipython3",
   "version": "3.11.6"
  }
 },
 "nbformat": 4,
 "nbformat_minor": 2
}
