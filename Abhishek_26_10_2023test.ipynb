{
 "cells": [
  {
   "cell_type": "code",
   "execution_count": 1,
   "metadata": {},
   "outputs": [
    {
     "name": "stdout",
     "output_type": "stream",
     "text": [
      "[4, 2, 3, 1]\n"
     ]
    }
   ],
   "source": [
    "# An array nums of length n is beautiful if:\n",
    "\n",
    "# nums is a permutation of the integers in the range [1, n].\n",
    "# For every 0 <= i < j < n, there is no index k with i < k < j where 2 * nums[k] == nums[i] + nums[j].\n",
    "# Given the integer n, return any beautiful array nums of length n. There will be at least one valid answer for the given n.\n",
    "\n",
    "class Solution(object):\n",
    "    def beautifulArray(self, n):\n",
    "\n",
    "        if n == 1:\n",
    "            return [1]\n",
    "\n",
    "        even = self.beautifulArray(n // 2)\n",
    "        odd = self.beautifulArray((n + 1) // 2)\n",
    "        result = [0] * n\n",
    "        index = 0\n",
    "\n",
    "        for i in range(len(even)):\n",
    "            result[index] = even[i] * 2\n",
    "            index += 1\n",
    "\n",
    "        for i in range(len(odd)):\n",
    "            result[index] = odd[i] * 2 - 1\n",
    "            index += 1\n",
    "\n",
    "        return result\n",
    "\n",
    "n = 4\n",
    "S = Solution()\n",
    "print(S.beautifulArray(n))"
   ]
  },
  {
   "cell_type": "code",
   "execution_count": 2,
   "metadata": {},
   "outputs": [
    {
     "name": "stdout",
     "output_type": "stream",
     "text": [
      "True\n"
     ]
    }
   ],
   "source": [
    "# You are playing a game involving a circular array of non-zero integers nums. Each nums[i] denotes the number of indices forward/backward you must move if you are located at index i:\n",
    "\n",
    "# If nums[i] is positive, move nums[i] steps forward, and\n",
    "# If nums[i] is negative, move nums[i] steps backward.\n",
    "# Since the array is circular, you may assume that moving forward from the last element puts you on the first element, and moving backwards from the first element puts you on the last element.\n",
    "\n",
    "# A cycle in the array consists of a sequence of indices seq of length k where:\n",
    "\n",
    "# Following the movement rules above results in the repeating index sequence seq[0] -> seq[1] -> ... -> seq[k - 1] -> seq[0] -> ...\n",
    "# Every nums[seq[j]] is either all positive or all negative.\n",
    "# k > 1\n",
    "# Return true if there is a cycle in nums, or false otherwise.\n",
    "\n",
    "class Solution(object):\n",
    "    def circularArrayLoop(self, nums):\n",
    "        n = len(nums)\n",
    "        checked = set()\n",
    "        for i in range(n):\n",
    "            if i not in checked:\n",
    "                cycle_set = set()\n",
    "                while True:\n",
    "                    if i in cycle_set:\n",
    "                        return True\n",
    "                    checked.add(i)\n",
    "                    cycle_set.add(i)\n",
    "                    prev,i = i, (i+nums[i])%n\n",
    "\n",
    "                    if prev == i:\n",
    "                        break\n",
    "                    if nums[prev]>0  != nums[i]<0:\n",
    "                        break\n",
    "        return False   \n",
    "    \n",
    "\n",
    "S = Solution()\n",
    "nums = [2,-1,1,2,2]\n",
    "print(S.circularArrayLoop(nums))"
   ]
  },
  {
   "cell_type": "code",
   "execution_count": null,
   "metadata": {},
   "outputs": [],
   "source": []
  }
 ],
 "metadata": {
  "kernelspec": {
   "display_name": "Python 3",
   "language": "python",
   "name": "python3"
  },
  "language_info": {
   "codemirror_mode": {
    "name": "ipython",
    "version": 3
   },
   "file_extension": ".py",
   "mimetype": "text/x-python",
   "name": "python",
   "nbconvert_exporter": "python",
   "pygments_lexer": "ipython3",
   "version": "3.11.6"
  }
 },
 "nbformat": 4,
 "nbformat_minor": 2
}
