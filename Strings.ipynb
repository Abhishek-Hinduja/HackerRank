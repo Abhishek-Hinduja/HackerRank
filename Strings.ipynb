{
 "cells": [
  {
   "cell_type": "code",
   "execution_count": 1,
   "metadata": {},
   "outputs": [
    {
     "name": "stdout",
     "output_type": "stream",
     "text": [
      "4\n"
     ]
    }
   ],
   "source": [
    "# Given an integer array nums of 2n integers, group these integers into n pairs (a1, b1), (a2, b2), ..., (an, bn) such that the sum of min(ai, bi) for all i is maximized. Return the maximized sum.\n",
    "\n",
    "class Solution(object):\n",
    "    def arrayPairSum(self, nums):\n",
    "        nums.sort()\n",
    "        sum = nums[0]\n",
    "        for i in range(1,len(nums)-1):\n",
    "            if i % 2 == 0:\n",
    "                sum += nums[i]\n",
    "        return sum\n",
    "\n",
    "        \n",
    "nums = [1,4,3,2]\n",
    "S = Solution()\n",
    "print(S.arrayPairSum(nums))"
   ]
  },
  {
   "cell_type": "code",
   "execution_count": 1,
   "metadata": {},
   "outputs": [],
   "source": [
    "# You are given an integer array nums. We consider an array good if it is a permutation of an array base[n].\n",
    "# base[n] = [1, 2, ..., n - 1, n, n] (in other words, it is an array of length n + 1 which contains 1 to n - 1 exactly once, plus two occurrences of n). For example, base[1] = [1, 1] and base[3] = [1, 2, 3, 3].\n",
    "# Return true if the given array is good, otherwise return false.\n",
    "# Note: A permutation of integers represents an arrangement of these numbers.\n",
    "\n",
    "class Solution(object):\n",
    "    def isGood(self, nums):\n",
    "        if not nums:\n",
    "            return False \n",
    "\n",
    "        maximum = max(nums)\n",
    "\n",
    "        if len(nums) != maximum + 1:\n",
    "            return False\n",
    "        nums.sort()\n",
    "        i = 0\n",
    "        while i < len(nums) and nums[i] < nums[i+1]:\n",
    "            i += 1\n",
    "            \n",
    "        if i != len(nums)-2:\n",
    "            return False\n",
    "\n",
    "        dic = {}\n",
    "\n",
    "        for item in nums:\n",
    "            if item not in dic:\n",
    "                dic[item] = 1\n",
    "            else:\n",
    "                dic[item] += 1\n",
    "\n",
    "        for item in dic:\n",
    "            if item == maximum and dic[item] == 2:\n",
    "                return True\n",
    "        return False\n",
    "    \n",
    "nums = [1, 3, 3, 2]"
   ]
  },
  {
   "cell_type": "code",
   "execution_count": 2,
   "metadata": {},
   "outputs": [
    {
     "name": "stdout",
     "output_type": "stream",
     "text": [
      "[1, 3, 6, 10]\n"
     ]
    }
   ],
   "source": [
    "# Given an array nums. We define a running sum of an array as runningSum[i] = sum(nums[0]…nums[i]).\n",
    "# Return the running sum of nums.\n",
    "\n",
    "class Solution(object):\n",
    "    def runningSum(self, nums):\n",
    "        i, j = 0, 0\n",
    "        sum = 0\n",
    "        newarr = []\n",
    "        while j < len(nums):\n",
    "            while i <= j:\n",
    "                sum += nums[i]\n",
    "                i += 1\n",
    "            i = 0\n",
    "            newarr.append(sum)\n",
    "            sum = 0\n",
    "            j += 1 \n",
    "        return newarr\n",
    "    \n",
    "nums = [1,2,3,4]\n",
    "S = Solution()\n",
    "print(S.runningSum(nums))"
   ]
  },
  {
   "cell_type": "code",
   "execution_count": 3,
   "metadata": {},
   "outputs": [],
   "source": [
    "# Given an integer array nums sorted in non-decreasing order, return an array of the squares of each number sorted in non-decreasing order.\n",
    "\n",
    "class Solution(object):\n",
    "    def sortedSquares(self, nums):\n",
    "\n",
    "        for i in range(len(nums)):\n",
    "            absolute = abs(nums[i])\n",
    "            nums[i] = absolute*absolute\n",
    "\n",
    "        ans = nums\n",
    "        ans.sort()\n",
    "        return ans\n",
    "    \n",
    "nums = [-4,-1,0,3,10]"
   ]
  },
  {
   "cell_type": "code",
   "execution_count": 1,
   "metadata": {},
   "outputs": [],
   "source": [
    "# You are given a 0-indexed integer array nums. You have to find the maximum sum of a pair of numbers from nums such that the maximum digit in both numbers are equal.\n",
    "# Return the maximum sum or -1 if no such pair exists.\n",
    "\n",
    "class Solution(object):\n",
    "    def maxSum(self, nums):\n",
    "        j = 0\n",
    "        i = 0\n",
    "        ans = []\n",
    "        while j < len(nums):\n",
    "            i = 0\n",
    "            while i < len(nums):\n",
    "                if j != i and max(str(nums[i])) == max(str(nums[j])):\n",
    "                    ans.append(nums[i] + nums[j])\n",
    "                i += 1\n",
    "            j += 1\n",
    "        if ans:\n",
    "                return max(ans)\n",
    "        else:\n",
    "            return -1\n",
    "        \n",
    "nums = [51,71,17,24,42]"
   ]
  },
  {
   "cell_type": "markdown",
   "metadata": {},
   "source": [
    "Strings\n"
   ]
  },
  {
   "cell_type": "code",
   "execution_count": 1,
   "metadata": {},
   "outputs": [
    {
     "name": "stdout",
     "output_type": "stream",
     "text": [
      "esrever\n"
     ]
    }
   ],
   "source": [
    "# def reverse_a_string(str):\n",
    "#     return str[::-1]\n",
    "\n",
    "# string = \"reverse\"\n",
    "# print(reverse_a_string(string)) \n",
    "\n",
    "def reversedstring(stri):\n",
    "    newstr = \"\"\n",
    "\n",
    "    i = 0\n",
    "    while i < len(stri):\n",
    "        newstr = stri[i] + newstr\n",
    "        i += 1\n",
    "    return newstr\n",
    "\n",
    "string = \"reverse\"\n",
    "print(reversedstring(string))"
   ]
  },
  {
   "cell_type": "code",
   "execution_count": 2,
   "metadata": {},
   "outputs": [
    {
     "name": "stdout",
     "output_type": "stream",
     "text": [
      "True\n"
     ]
    }
   ],
   "source": [
    "def palindrome(str):\n",
    "\n",
    "    lp = 0\n",
    "    hp = len(str)-1\n",
    "\n",
    "    while lp<=hp and str[lp] == str[hp]:\n",
    "        lp += 1\n",
    "        hp -= 1\n",
    "\n",
    "    return lp == (len(str)//2)+1\n",
    "\n",
    "str = \"civic\"\n",
    "print(palindrome(str))"
   ]
  },
  {
   "cell_type": "code",
   "execution_count": 3,
   "metadata": {},
   "outputs": [
    {
     "name": "stdout",
     "output_type": "stream",
     "text": [
      "b h "
     ]
    }
   ],
   "source": [
    "def finduplicates(str):\n",
    "    dic = {}\n",
    "    for item in str:\n",
    "        if item not in dic:\n",
    "            dic[item] = 1\n",
    "        else:\n",
    "            dic[item]+=1\n",
    "    \n",
    "    for item in dic:\n",
    "        if dic[item] > 1:\n",
    "            print(item, end = \" \")\n",
    "\n",
    "str = \"bjhfbswregbiuh\"\n",
    "finduplicates(str)"
   ]
  },
  {
   "cell_type": "code",
   "execution_count": 4,
   "metadata": {},
   "outputs": [
    {
     "name": "stdout",
     "output_type": "stream",
     "text": [
      "Rotation\n"
     ]
    }
   ],
   "source": [
    "def isrotation(str1,str2):\n",
    "    newstr = \"\"\n",
    "    if len(str1) != len(str2):\n",
    "        return False\n",
    "    \n",
    "    newstr = str1.lower() + str1.lower()\n",
    "\n",
    "    if str2.lower() in newstr:\n",
    "        return \"Rotation\"\n",
    "    else:\n",
    "        return \"Not a Rotation\"\n",
    "    \n",
    "\n",
    "str1 = \"helloworld\"\n",
    "str2 = \"worldhello\"\n",
    "print(isrotation(str1,str2))"
   ]
  },
  {
   "cell_type": "code",
   "execution_count": 5,
   "metadata": {},
   "outputs": [
    {
     "name": "stdout",
     "output_type": "stream",
     "text": [
      "120\n"
     ]
    }
   ],
   "source": [
    "def factorial_using_recursion(n):\n",
    "    if n == 0:\n",
    "        return 1\n",
    "    return n * factorial_using_recursion(n-1)\n",
    "\n",
    "print(factorial_using_recursion(5))"
   ]
  },
  {
   "cell_type": "code",
   "execution_count": 6,
   "metadata": {},
   "outputs": [
    {
     "name": "stdout",
     "output_type": "stream",
     "text": [
      "120\n"
     ]
    }
   ],
   "source": [
    "def factorial_wihout_using_recursion(n):\n",
    "    ans = 1\n",
    "    i = 1\n",
    "    while i <= 5:\n",
    "        ans = ans * i\n",
    "        i += 1\n",
    "    return ans\n",
    "\n",
    "print(factorial_wihout_using_recursion(5))"
   ]
  },
  {
   "cell_type": "code",
   "execution_count": 7,
   "metadata": {},
   "outputs": [
    {
     "name": "stdout",
     "output_type": "stream",
     "text": [
      "0 1 1 2 3 "
     ]
    }
   ],
   "source": [
    "def fibonacci(n):\n",
    "    if n == 0:\n",
    "        return 0\n",
    "    elif n == 1:\n",
    "        return 1\n",
    "    \n",
    "    return fibonacci(n-1) + fibonacci(n-2)\n",
    "\n",
    "def series(n):\n",
    "    for i in range(n):\n",
    "        print(fibonacci(i),end=\" \")\n",
    "\n",
    "series(5)"
   ]
  },
  {
   "cell_type": "code",
   "execution_count": null,
   "metadata": {},
   "outputs": [],
   "source": [
    "# Roman numerals are represented by seven different symbols: I, V, X, L, C, D and M.\n",
    "# Symbol       Value\n",
    "# I             1\n",
    "# V             5\n",
    "# X             10\n",
    "# L             50\n",
    "# C             100\n",
    "# D             500\n",
    "# M             1000\n",
    "# For example, 2 is written as II in Roman numeral, just two ones added together. 12 is written as XII, which is simply X + II. The number 27 is written as XXVII, which is XX + V + II.\n",
    "# Roman numerals are usually written largest to smallest from left to right. However, the numeral for four is not IIII. Instead, the number four is written as IV. Because the one is before the five we subtract it making four. The same principle applies to the number nine, which is written as IX. There are six instances where subtraction is used:\n",
    "# I can be placed before V (5) and X (10) to make 4 and 9. \n",
    "# X can be placed before L (50) and C (100) to make 40 and 90. \n",
    "# C can be placed before D (500) and M (1000) to make 400 and 900.\n",
    "# Given a roman numeral, convert it to an integer.\n",
    "\n",
    "\n",
    "class Solution(object):\n",
    "    def romanToInt(self, s):\n",
    "        \n",
    "        dic = {\n",
    "            \"I\":1,\n",
    "            \"V\":5,\n",
    "            \"X\":10,\n",
    "            \"L\":50,\n",
    "            \"C\":100,\n",
    "            \"D\":500,\n",
    "            \"M\":1000,\n",
    "        }\n",
    "\n",
    "        s = s.replace(\"IV\",\"IIII\")\n",
    "        s = s.replace(\"IX\",\"VIIII\")\n",
    "        s = s.replace(\"XL\",\"XXXX\")\n",
    "        s = s.replace(\"XC\",\"LXXXX\")\n",
    "        s = s.replace(\"CD\",\"CCCC\")\n",
    "        s = s.replace(\"CM\",\"DCCCC\")\n",
    "        ans = 0\n",
    "        for i in s:\n",
    "            ans += dic[i]\n",
    "\n",
    "        return ans\n",
    "        \n",
    "s = \"MCMXCIV\""
   ]
  }
 ],
 "metadata": {
  "kernelspec": {
   "display_name": "Python 3",
   "language": "python",
   "name": "python3"
  },
  "language_info": {
   "codemirror_mode": {
    "name": "ipython",
    "version": 3
   },
   "file_extension": ".py",
   "mimetype": "text/x-python",
   "name": "python",
   "nbconvert_exporter": "python",
   "pygments_lexer": "ipython3",
   "version": "3.11.6"
  },
  "orig_nbformat": 4
 },
 "nbformat": 4,
 "nbformat_minor": 2
}
