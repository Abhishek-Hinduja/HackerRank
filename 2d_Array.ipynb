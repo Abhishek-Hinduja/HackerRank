{
 "cells": [
  {
   "cell_type": "code",
   "execution_count": 6,
   "metadata": {},
   "outputs": [
    {
     "name": "stdout",
     "output_type": "stream",
     "text": [
      "[1, 2, 3, 4, 5, 6]\n",
      "[9, 6, 3, 8, 6, 4]\n",
      "[8, 9, 6, 5, 4, 2]\n",
      "[5, 6, 9, 3, 4, 5]\n",
      "[5, 8, 6, 7, 8, 9]\n",
      "_________________________________________________\n",
      "[1, 2, 3, 4, 5, 6]\n",
      "                                             \n",
      "1 2 3 4 5 6 \n",
      "9 6 3 8 6 4 \n",
      "8 9 6 5 4 2 \n",
      "5 6 9 3 4 5 \n",
      "5 8 6 7 8 9 \n"
     ]
    }
   ],
   "source": [
    "hourly_fly = [\n",
    "    [1,2,3,4,5,6],\n",
    "    [9,6,3,8,6,4],\n",
    "    [8,9,6,5,4,2],\n",
    "    [5,6,9,3,4,5],\n",
    "    [5,8,6,7,8,9],\n",
    "    ]\n",
    "\n",
    "for row in hourly_fly:\n",
    "    print(row)\n",
    "\n",
    "print(\"_________________________________________________\")\n",
    "\n",
    "print(hourly_fly[0])\n",
    "\n",
    "print(\"                                             \")\n",
    "\n",
    "for row in hourly_fly:\n",
    "    for col in row:\n",
    "        print(col,end=\" \")\n",
    "    print()"
   ]
  },
  {
   "cell_type": "code",
   "execution_count": null,
   "metadata": {},
   "outputs": [],
   "source": []
  }
 ],
 "metadata": {
  "kernelspec": {
   "display_name": "Python 3",
   "language": "python",
   "name": "python3"
  },
  "language_info": {
   "codemirror_mode": {
    "name": "ipython",
    "version": 3
   },
   "file_extension": ".py",
   "mimetype": "text/x-python",
   "name": "python",
   "nbconvert_exporter": "python",
   "pygments_lexer": "ipython3",
   "version": "3.11.6"
  }
 },
 "nbformat": 4,
 "nbformat_minor": 2
}
