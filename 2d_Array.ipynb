{
 "cells": [
  {
   "cell_type": "code",
   "execution_count": 6,
   "metadata": {},
   "outputs": [
    {
     "name": "stdout",
     "output_type": "stream",
     "text": [
      "[1, 2, 3, 4, 5, 6]\n",
      "[9, 6, 3, 8, 6, 4]\n",
      "[8, 9, 6, 5, 4, 2]\n",
      "[5, 6, 9, 3, 4, 5]\n",
      "[5, 8, 6, 7, 8, 9]\n",
      "_________________________________________________\n",
      "[1, 2, 3, 4, 5, 6]\n",
      "                                             \n",
      "1 2 3 4 5 6 \n",
      "9 6 3 8 6 4 \n",
      "8 9 6 5 4 2 \n",
      "5 6 9 3 4 5 \n",
      "5 8 6 7 8 9 \n"
     ]
    }
   ],
   "source": [
    "hourly_fly = [\n",
    "    [1,2,3,4,5,6],\n",
    "    [9,6,3,8,6,4],\n",
    "    [8,9,6,5,4,2],\n",
    "    [5,6,9,3,4,5],\n",
    "    [5,8,6,7,8,9],\n",
    "    ]\n",
    "\n",
    "for row in hourly_fly:\n",
    "    print(row)\n",
    "\n",
    "print(\"_________________________________________________\")\n",
    "\n",
    "print(hourly_fly[0])\n",
    "\n",
    "print(\"                                             \")\n",
    "\n",
    "for row in hourly_fly:\n",
    "    for col in row:\n",
    "        print(col,end=\" \")\n",
    "    print()"
   ]
  },
  {
   "cell_type": "code",
   "execution_count": 7,
   "metadata": {},
   "outputs": [
    {
     "data": {
      "text/plain": [
       "[[-1, 0, 1], [-1, -1, 2]]"
      ]
     },
     "execution_count": 7,
     "metadata": {},
     "output_type": "execute_result"
    }
   ],
   "source": [
    "class Solution:\n",
    "    def threeSum(self, nums):\n",
    "        ans = [[nums[i], nums[j], nums[k]] for i in range(len(nums)) for j in range(len(nums)) for k in range(len(nums)) if ((i != j and i != k and j != k) and (nums[i] + nums[j] + nums[k] == 0))]\n",
    "\n",
    "      \n",
    "        newval = []\n",
    "        for item in ans:\n",
    "            sorted_item = sorted(item)\n",
    "            if sorted_item not in newval:\n",
    "                newval.append(sorted_item)\n",
    "\n",
    "        return newval\n",
    "\n",
    "\n",
    "   \n",
    "nums = [-1,0,1,2,-1,-4]\n",
    "S = Solution()\n",
    "S.threeSum(nums)"
   ]
  }
 ],
 "metadata": {
  "kernelspec": {
   "display_name": "Python 3",
   "language": "python",
   "name": "python3"
  },
  "language_info": {
   "codemirror_mode": {
    "name": "ipython",
    "version": 3
   },
   "file_extension": ".py",
   "mimetype": "text/x-python",
   "name": "python",
   "nbconvert_exporter": "python",
   "pygments_lexer": "ipython3",
   "version": "3.11.6"
  }
 },
 "nbformat": 4,
 "nbformat_minor": 2
}
