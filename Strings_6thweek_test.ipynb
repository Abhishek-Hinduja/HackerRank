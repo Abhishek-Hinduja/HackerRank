{
 "cells": [
  {
   "cell_type": "code",
   "execution_count": 15,
   "metadata": {},
   "outputs": [
    {
     "name": "stdout",
     "output_type": "stream",
     "text": [
      "fl\n"
     ]
    }
   ],
   "source": [
    "# Write a function to find the longest common prefix string amongst an array of strings.  \n",
    "# If there is no common prefix, return an empty string \"\". VIMP\n",
    "\n",
    "class Solution(object):\n",
    "    def longestCommonPrefix(self, strs):\n",
    "        res = \"\"\n",
    "\n",
    "        for i in range(len(strs[0])):\n",
    "            for s in strs:\n",
    "                if i==len(s) or s[i] != strs[0][i]:\n",
    "                    return res\n",
    "\n",
    "            res += strs[0][i]\n",
    "        return res\n",
    "    \n",
    "strs = [\"flower\",\"flow\",\"flight\"]\n",
    "S = Solution()\n",
    "print(S.longestCommonPrefix(strs))"
   ]
  },
  {
   "cell_type": "code",
   "execution_count": 16,
   "metadata": {},
   "outputs": [
    {
     "name": "stdout",
     "output_type": "stream",
     "text": [
      "[5, 1, 2, 3, 4]\n"
     ]
    }
   ],
   "source": [
    "# Given an array, rotate the array by one position in clock-wise direction.  Imp\n",
    "\n",
    "def rotate( arr, n):\n",
    "    \n",
    "    last_val = arr[-1]\n",
    "    \n",
    "    for i in range(len(arr)-1,-1,-1):\n",
    "        arr[i] = arr[i-1]\n",
    "        \n",
    "    arr[0] = last_val\n",
    "    \n",
    "    return arr\n",
    "\n",
    "arr = [1, 2, 3, 4, 5]\n",
    "print(rotate(arr,len(arr)))"
   ]
  },
  {
   "cell_type": "code",
   "execution_count": null,
   "metadata": {},
   "outputs": [],
   "source": []
  }
 ],
 "metadata": {
  "kernelspec": {
   "display_name": "Python 3",
   "language": "python",
   "name": "python3"
  },
  "language_info": {
   "codemirror_mode": {
    "name": "ipython",
    "version": 3
   },
   "file_extension": ".py",
   "mimetype": "text/x-python",
   "name": "python",
   "nbconvert_exporter": "python",
   "pygments_lexer": "ipython3",
   "version": "3.11.6"
  }
 },
 "nbformat": 4,
 "nbformat_minor": 2
}
