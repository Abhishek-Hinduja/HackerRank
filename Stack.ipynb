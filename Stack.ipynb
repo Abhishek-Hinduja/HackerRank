{
 "cells": [
  {
   "cell_type": "code",
   "execution_count": 1,
   "metadata": {},
   "outputs": [
    {
     "name": "stdout",
     "output_type": "stream",
     "text": [
      "7\n",
      "6\n",
      "5\n",
      "4\n"
     ]
    }
   ],
   "source": [
    "class Stack:\n",
    "    def __init__(self,data):\n",
    "        self.data = data\n",
    "\n",
    "    def push(self,item):\n",
    "        self.data.append(item)\n",
    "\n",
    "    def pop(self):\n",
    "        if self.isEmpty():\n",
    "            print(\"Stack is Empty\")\n",
    "            return\n",
    "        return self.data.pop()\n",
    "\n",
    "    def size(self):\n",
    "        return len((self.data)-1)\n",
    "    \n",
    "    def top(self):\n",
    "        if self.isEmpty():\n",
    "            print(\"Stack is Empty\")\n",
    "            return\n",
    "        return self.data[len(self.data)-1]\n",
    "    \n",
    "    def isEmpty(self):\n",
    "        return self.data == []\n",
    "    \n",
    "S = Stack([])\n",
    "S.push(4)\n",
    "S.push(5)\n",
    "S.push(6)\n",
    "S.push(7)\n",
    "while not S.isEmpty():\n",
    "    print(S.pop())\n"
   ]
  },
  {
   "cell_type": "markdown",
   "metadata": {},
   "source": [
    "Implemtation Of Stack Using linked list"
   ]
  },
  {
   "cell_type": "markdown",
   "metadata": {},
   "source": [
    "<!-- Implementation of Stack Using linked list -->"
   ]
  },
  {
   "cell_type": "code",
   "execution_count": 5,
   "metadata": {},
   "outputs": [
    {
     "name": "stdout",
     "output_type": "stream",
     "text": [
      "1\n",
      "2\n",
      "3\n",
      "4\n",
      "5\n"
     ]
    }
   ],
   "source": [
    "class node:\n",
    "    def __init__(self,data):\n",
    "        self.data = data\n",
    "        self.next = None\n",
    "\n",
    "class Stack:\n",
    "    def __init__(self):\n",
    "        self.head = None\n",
    "        self.count = 0\n",
    "\n",
    "    def push(self,item):\n",
    "        newnode = node(item)\n",
    "        newnode.next = self.head\n",
    "        self.head = newnode\n",
    "        self.count += 1\n",
    "\n",
    "    def pop(self):\n",
    "        if self.isEmpty():\n",
    "            print(\"Stack is Empty\")\n",
    "            return\n",
    "        self.data = self.head.data\n",
    "        self.head = self.head.next\n",
    "        self.count-=1\n",
    "        return self.data\n",
    "\n",
    "    def isEmpty(self):\n",
    "        return self.count == 0\n",
    "\n",
    "    def size(self):\n",
    "        return self.count\n",
    "\n",
    "    def top(self):\n",
    "        if self.isEmpty():\n",
    "            print(\"Stack is Empty\")\n",
    "            return\n",
    "        return self.head.data\n",
    "\n",
    "S = Stack()\n",
    "S.push(5) \n",
    "S.push(4) \n",
    "S.push(3) \n",
    "S.push(2) \n",
    "S.push(1) \n",
    "while not S.isEmpty():\n",
    "    print(S.pop())"
   ]
  },
  {
   "cell_type": "markdown",
   "metadata": {},
   "source": [
    "Inbuilt Stack Queue"
   ]
  },
  {
   "cell_type": "code",
   "execution_count": 3,
   "metadata": {},
   "outputs": [
    {
     "name": "stdout",
     "output_type": "stream",
     "text": [
      "4\n",
      "3\n",
      "2\n",
      "1\n"
     ]
    }
   ],
   "source": [
    "import queue\n",
    "\n",
    "# q = queue.Queue()\n",
    "# q.put(1)\n",
    "# q.put(2)\n",
    "# q.put(3)\n",
    "# q.put(4)\n",
    "\n",
    "# while not q.empty():\n",
    "#     print(q.get())\n",
    "\n",
    "q = queue.LifoQueue()\n",
    "q.put(1)\n",
    "q.put(2)\n",
    "q.put(3)\n",
    "q.put(4)\n",
    "\n",
    "while not q.empty():\n",
    "    print(q.get())"
   ]
  },
  {
   "cell_type": "code",
   "execution_count": 6,
   "metadata": {},
   "outputs": [
    {
     "name": "stdout",
     "output_type": "stream",
     "text": [
      "False\n"
     ]
    }
   ],
   "source": [
    "def balen_parenthesis(string):\n",
    "\n",
    "    stack = []\n",
    "    for char in string:\n",
    "        if char in \"({[\":\n",
    "            stack.append(char)\n",
    "        elif char == \")\":\n",
    "            if (not stack or stack[-1]!=\"(\"):\n",
    "                return False\n",
    "            stack.pop()\n",
    "        elif char == '}':\n",
    "            if (not stack or stack[-1]!=\"{\"):\n",
    "                return False\n",
    "            stack.pop()\n",
    "        elif char == ']':\n",
    "            if (not stack or stack[-1] != \"[\"):\n",
    "                return False\n",
    "            stack.pop()\n",
    "\n",
    "    if not stack:\n",
    "        return True\n",
    "    else:\n",
    "        return False\n",
    "    \n",
    "string = \"{(a+b}\"\n",
    "print(balen_parenthesis(string))"
   ]
  },
  {
   "cell_type": "code",
   "execution_count": 9,
   "metadata": {},
   "outputs": [
    {
     "name": "stdout",
     "output_type": "stream",
     "text": [
      "False\n"
     ]
    }
   ],
   "source": [
    "def isredundant_bracket(expression):\n",
    "    stack = []\n",
    "\n",
    "    for char in expression:\n",
    "        if char == ')':\n",
    "            top = stack.pop()\n",
    "            found_redundnt = False\n",
    "            while top != '(':\n",
    "                if top not in '+-*/':\n",
    "                    found_redundnt = True\n",
    "                top = stack.pop()\n",
    "\n",
    "            if found_redundnt:\n",
    "                return True\n",
    "        else:\n",
    "            stack.append(char)\n",
    "\n",
    "    return False\n",
    "expression = \"a+b\"\n",
    "print(isredundant_bracket(expression))\n"
   ]
  },
  {
   "cell_type": "code",
   "execution_count": null,
   "metadata": {},
   "outputs": [],
   "source": []
  }
 ],
 "metadata": {
  "kernelspec": {
   "display_name": "Python 3",
   "language": "python",
   "name": "python3"
  },
  "language_info": {
   "codemirror_mode": {
    "name": "ipython",
    "version": 3
   },
   "file_extension": ".py",
   "mimetype": "text/x-python",
   "name": "python",
   "nbconvert_exporter": "python",
   "pygments_lexer": "ipython3",
   "version": "3.11.6"
  }
 },
 "nbformat": 4,
 "nbformat_minor": 2
}
