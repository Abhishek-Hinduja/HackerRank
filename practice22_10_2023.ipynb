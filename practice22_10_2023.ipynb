{
 "cells": [
  {
   "cell_type": "code",
   "execution_count": 5,
   "metadata": {},
   "outputs": [
    {
     "name": "stdout",
     "output_type": "stream",
     "text": [
      "11\n"
     ]
    }
   ],
   "source": [
    "###Finding The Second Maximum from the array\n",
    "\n",
    "def second_maxi(arr):\n",
    "    first_max = -4543\n",
    "    second_max = -8594\n",
    "\n",
    "\n",
    "    for num in arr:\n",
    "        if num > first_max:\n",
    "            second_max = first_max\n",
    "            first_max = num\n",
    "        elif second_max < num and num != first_max:\n",
    "            second_max = num\n",
    "    return second_max\n",
    "\n",
    "\n",
    "arr = [5,9,6,15,9,6,8,11]\n",
    "print(second_maxi(arr))"
   ]
  },
  {
   "cell_type": "code",
   "execution_count": 17,
   "metadata": {},
   "outputs": [
    {
     "name": "stdout",
     "output_type": "stream",
     "text": [
      "1\n"
     ]
    }
   ],
   "source": [
    "def binary_search(arr,x,left,right):\n",
    "    count = 0\n",
    "\n",
    "    while left <= right:\n",
    "        mid = (left + right)//2\n",
    "\n",
    "        if arr[mid] == x:\n",
    "            count +=1\n",
    "            i = mid + 1\n",
    "            while i <= right and arr[i] == x:\n",
    "                count += 1\n",
    "                i += 1\n",
    "            i = mid - 1\n",
    "            while i >= left and arr[i] == x:\n",
    "                count += 1\n",
    "                i -= 1\n",
    "            break\n",
    "\n",
    "             \n",
    "        \n",
    "        elif arr[mid] > x:\n",
    "            right = mid - 1\n",
    "        \n",
    "        else:\n",
    "            left = mid + 1\n",
    "    return count\n",
    "\n",
    "arr = [1,2,3,5,5,5,5,6,8,8,8]\n",
    "print(binary_search(arr,6,0,len(arr)-1))"
   ]
  },
  {
   "cell_type": "code",
   "execution_count": 3,
   "metadata": {},
   "outputs": [
    {
     "name": "stdout",
     "output_type": "stream",
     "text": [
      "3 4 "
     ]
    }
   ],
   "source": [
    "\n",
    "def duplicates(arr):\n",
    "    for i in range(len(arr)):\n",
    "        num = abs(arr[i])\n",
    "        if arr[num] < 0:\n",
    "            print(num, end=\" \")\n",
    "        arr[num] = -arr[num]\n",
    "arr = [1,2,3,3,4,4]\n",
    "duplicates(arr)"
   ]
  },
  {
   "cell_type": "code",
   "execution_count": 6,
   "metadata": {},
   "outputs": [
    {
     "name": "stdout",
     "output_type": "stream",
     "text": [
      "6\n"
     ]
    }
   ],
   "source": [
    "# Given a non-empty array of non-negative integers nums, the degree of this array is defined as the maximum frequency of any one of its elements.\n",
    "# Your task is to find the smallest possible length of a (contiguous) subarray of nums, that has the same degree as nums.\n",
    "def max_frequency(arr):\n",
    "    freq = {}\n",
    "    start = {}\n",
    "    end = {}\n",
    "    for i in range(len(arr)):\n",
    "        if arr[i] not in freq:\n",
    "            freq[arr[i]] = 1\n",
    "            start[arr[i]] = i\n",
    "            end[arr[i]] = i\n",
    "        else:\n",
    "            freq[arr[i]] += 1\n",
    "            end[arr[i]] = i\n",
    "    maxfreq = max(freq.values())\n",
    " \n",
    "\n",
    "    for i in set(arr):\n",
    "        if freq[i] == maxfreq:\n",
    "            span = end[i]-start[i]+1\n",
    "\n",
    "    return span\n",
    "\n",
    "nums = [1,2,2,3,1,4,2]\n",
    "print(max_frequency(nums))"
   ]
  },
  {
   "cell_type": "code",
   "execution_count": 4,
   "metadata": {},
   "outputs": [
    {
     "name": "stdout",
     "output_type": "stream",
     "text": [
      "5\n"
     ]
    }
   ],
   "source": [
    "# Given an integer array nums sorted in non-decreasing order, remove the duplicates in-place such that each unique element appears only once. The relative order of the elements should be kept the same. Then return the number of unique elements in nums.\n",
    "# Consider the number of unique elements of nums to be k, to get accepted, you need to do the following things:\n",
    "# Change the array nums such that the first k elements of nums contain the unique elements in the order they were present in nums initially. The remaining elements of nums are not important as well as the size of nums.\n",
    "# Return k.\n",
    "\n",
    "class Solution:\n",
    "    def removeDuplicates(self,arr):\n",
    "\n",
    "        k = 1\n",
    "        for i in range(1,len(arr)):\n",
    "            if arr[i] != arr[i-1]:\n",
    "                arr[k] = arr[i]\n",
    "                k += 1\n",
    "        return k\n",
    "    \n",
    "nums = [0,0,1,1,1,2,2,3,3,4]\n",
    "S = Solution()\n",
    "print(S.removeDuplicates(nums))"
   ]
  },
  {
   "cell_type": "code",
   "execution_count": null,
   "metadata": {},
   "outputs": [],
   "source": []
  }
 ],
 "metadata": {
  "kernelspec": {
   "display_name": "Python 3",
   "language": "python",
   "name": "python3"
  },
  "language_info": {
   "codemirror_mode": {
    "name": "ipython",
    "version": 3
   },
   "file_extension": ".py",
   "mimetype": "text/x-python",
   "name": "python",
   "nbconvert_exporter": "python",
   "pygments_lexer": "ipython3",
   "version": "3.11.6"
  }
 },
 "nbformat": 4,
 "nbformat_minor": 2
}
