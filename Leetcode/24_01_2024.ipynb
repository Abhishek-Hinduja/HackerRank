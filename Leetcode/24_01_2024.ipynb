{
 "cells": [
  {
   "cell_type": "code",
   "execution_count": 7,
   "metadata": {},
   "outputs": [
    {
     "name": "stdout",
     "output_type": "stream",
     "text": [
      "[1, 2, 3, 4, 5]\n"
     ]
    }
   ],
   "source": [
    "# Question 1.)  Sort an Array\n",
    "\n",
    "# Given an array of integers nums, sort the array in ascending order and return it.\n",
    "# You must solve the problem without using any built-in functions in O(nlog(n)) time complexity and with the smallest space complexity possible.  for Example [5,2,3,1]\n",
    "\n",
    "\n",
    "class Solution:\n",
    "    def sortArray(self, nums):\n",
    "        if len(nums) < 2:\n",
    "            return nums\n",
    "        \n",
    "        mid = len(nums)//2\n",
    "\n",
    "        firsthalf = nums[:mid]\n",
    "        secondhalf = nums[mid:]\n",
    "\n",
    "        self.sortArray(firsthalf)\n",
    "        self.sortArray(secondhalf)\n",
    "\n",
    "        i,j,k = 0,0,0\n",
    "\n",
    "        while i < len(firsthalf) and j < len(secondhalf):\n",
    "            if firsthalf[i] < secondhalf[j]:\n",
    "                nums[k] = firsthalf[i]\n",
    "                i += 1\n",
    "            else:\n",
    "                nums[k] = secondhalf[j]\n",
    "                j += 1\n",
    "            k += 1\n",
    "\n",
    "        while i < len(firsthalf):\n",
    "            nums[k] = firsthalf[i]\n",
    "            i += 1\n",
    "            k += 1\n",
    "\n",
    "        while j < len(secondhalf):\n",
    "            nums[k] = secondhalf[j]\n",
    "            j += 1\n",
    "            k += 1\n",
    "\n",
    "        return nums\n",
    "    \n",
    "S = Solution()\n",
    "nums = [5,4,2,1,3]\n",
    "print(S.sortArray(nums))\n",
    "\n"
   ]
  },
  {
   "cell_type": "code",
   "execution_count": null,
   "metadata": {},
   "outputs": [],
   "source": [
    "# 28. Find the Index of the First Occurrence in a String\n",
    "# Given two strings needle and haystack, return the index of the first occurrence of needle in haystack, or -1 if needle is not part of haystack.\n",
    "\n",
    "\n",
    "class Solution(object):\n",
    "    def strStr(self, haystack, needle):\n",
    "        if needle == \"\":\n",
    "            return 0\n",
    "        \n",
    "        for i in range(len(haystack) + 1 - len(needle)):\n",
    "            for j in range(len(needle)):\n",
    "                if haystack[i+j] != needle[j]:\n",
    "                    break\n",
    "                if j == len(needle) - 1:\n",
    "                    return i\n",
    "        return -1\n",
    "\n",
    "\n",
    "\n"
   ]
  }
 ],
 "metadata": {
  "kernelspec": {
   "display_name": "Python 3",
   "language": "python",
   "name": "python3"
  },
  "language_info": {
   "codemirror_mode": {
    "name": "ipython",
    "version": 3
   },
   "file_extension": ".py",
   "mimetype": "text/x-python",
   "name": "python",
   "nbconvert_exporter": "python",
   "pygments_lexer": "ipython3",
   "version": "3.11.7"
  }
 },
 "nbformat": 4,
 "nbformat_minor": 2
}
