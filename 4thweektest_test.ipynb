{
 "cells": [
  {
   "cell_type": "code",
   "execution_count": 3,
   "metadata": {},
   "outputs": [
    {
     "name": "stdout",
     "output_type": "stream",
     "text": [
      "2\n"
     ]
    }
   ],
   "source": [
    "# Given an array of integers arr, a lucky integer is an integer that has a frequency in the array equal to its value.\n",
    "# Return the largest lucky integer in the array. If there is no lucky integer return -1.\n",
    "\n",
    "# class Solution(object):\n",
    "#     def findLucky(self, arr):\n",
    "        \n",
    "#         lucky_numbers = []\n",
    "\n",
    "#         for i in range(len(arr)):\n",
    "#             if arr.count(arr[i]) == arr[i]:\n",
    "#                 lucky_numbers.append(arr[i])\n",
    "\n",
    "#         if lucky_numbers:\n",
    "#             return max(lucky_numbers)\n",
    "#         else:\n",
    "#             return -1\n",
    "\n",
    "# arr = [2,2,3,4]   \n",
    "# s = Solution()\n",
    "# print(s.findLucky(arr))\n",
    "temp = 0\n",
    "def findlucky(arr):\n",
    "    dic = {}\n",
    "\n",
    "    for i in arr:\n",
    "        if i not in dic:\n",
    "            dic[i] = 1\n",
    "        else:\n",
    "            dic[i] += 1\n",
    "    temp = []\n",
    "    for i in dic:\n",
    "        if i == dic[i]:\n",
    "            temp.append(i)\n",
    "    if temp:\n",
    "        return max(temp)\n",
    "    else:\n",
    "        return -1\n",
    "\n",
    "arr = [2,2,3,4]   \n",
    "print(findlucky(arr))"
   ]
  },
  {
   "cell_type": "code",
   "execution_count": null,
   "metadata": {},
   "outputs": [],
   "source": [
    "# Given an array of integers arr, return true if and only if it is a valid mountain array.\n",
    "# Recall that arr is a mountain array if and only if:\n",
    "\n",
    "class Solution(object):\n",
    "    def validMountainArray(self, arr):\n",
    "        if len(arr) < 3:\n",
    "            return False\n",
    "\n",
    "        i = 0\n",
    "        \n",
    "        while i < len(arr)-1 and arr[i]<arr[i+1]:\n",
    "            i += 1\n",
    "\n",
    "        if i == 0 or i == len(arr)-1:\n",
    "            return False\n",
    "\n",
    "        while i < len(arr)-1 and arr[i]>arr[i+1]:\n",
    "            i += 1\n",
    "        \n",
    "\n",
    "        \n",
    "        return i == len(arr)-1\n"
   ]
  },
  {
   "cell_type": "code",
   "execution_count": 1,
   "metadata": {},
   "outputs": [
    {
     "name": "stdout",
     "output_type": "stream",
     "text": [
      "True\n"
     ]
    }
   ],
   "source": [
    "# Given an array of integers arr, return true if we can partition the array into three non-empty parts with equal sums.\n",
    "# Formally, we can partition the array if we can find indexes i + 1 < j with (arr[0] + arr[1] + ... + arr[i] == arr[i + 1] + arr[i + 2] + ... + arr[j - 1] == arr[j] + arr[j + 1] + ... + arr[arr.length - 1])\n",
    "\n",
    "class Solution(object):\n",
    "    def canThreePartsEqualSum(self, arr):\n",
    "        total_sum = sum(arr)\n",
    "        if total_sum%3 != 0:\n",
    "            return False\n",
    "        \n",
    "        target_sum = sum(arr)//3\n",
    "        count = 0\n",
    "        current_sum = 0\n",
    "\n",
    "        for i in range(len(arr)-1):\n",
    "            current_sum += arr[i]\n",
    "            if current_sum == target_sum:\n",
    "                count += 1\n",
    "                current_sum = 0\n",
    "                if count == 2:\n",
    "                    return True\n",
    "\n",
    "        return False\n",
    "    \n",
    "arr = [0,2,1,-6,6,-7,9,1,2,0,1]\n",
    "S = Solution()\n",
    "print(S.canThreePartsEqualSum(arr)) "
   ]
  },
  {
   "cell_type": "code",
   "execution_count": 4,
   "metadata": {},
   "outputs": [
    {
     "name": "stdout",
     "output_type": "stream",
     "text": [
      "7\n"
     ]
    }
   ],
   "source": [
    "# Given a non-empty array of non-negative integers nums, the degree of this array is defined as the maximum frequency of any one of its elements.\n",
    "# Your task is to find the smallest possible length of a (contiguous) subarray of nums, that has the same degree as nums.\n",
    "\n",
    "class Solution(object):\n",
    "    def findShortestSubArray(self, nums):\n",
    "        freq = {}\n",
    "        start = {}\n",
    "        end = {}\n",
    "\n",
    "        for i in range(len(nums)):\n",
    "            if nums[i] not in freq:\n",
    "                freq[nums[i]] = 1\n",
    "                start[nums[i]] = i\n",
    "                end[nums[i]] = i\n",
    "            else:\n",
    "                freq[nums[i]] += 1\n",
    "                end[nums[i]] = i\n",
    "\n",
    "        maxfreq = max(freq.values())\n",
    "        lowspan = len(nums)\n",
    "\n",
    "        for i in set(nums):\n",
    "            if freq[i] == maxfreq:\n",
    "                span = end[i] - start[i] + 1\n",
    "                if span < lowspan:\n",
    "                    lowspan = span\n",
    "\n",
    "        return lowspan\n",
    "    \n",
    "S = Solution()\n",
    "nums = [1,2,2,3,1,4,2]\n",
    "print(S.findShortestSubArray(nums))"
   ]
  },
  {
   "cell_type": "code",
   "execution_count": 6,
   "metadata": {},
   "outputs": [
    {
     "name": "stdout",
     "output_type": "stream",
     "text": [
      "2\n"
     ]
    }
   ],
   "source": [
    "# You have n coins and you want to build a staircase with these coins. The staircase consists of k rows where the ith row has exactly i coins. The last row of the staircase may be incomplete.\n",
    "# Given the integer n, return the number of complete rows of the staircase you will build.\n",
    "\n",
    "class Solution:\n",
    "    def arrangeCoins(self, n):\n",
    "        row, add = 0, 0\n",
    "        i = 1\n",
    "        while i <= n:\n",
    "            add += i\n",
    "            if add <= n:\n",
    "                row+=1\n",
    "            else:\n",
    "                break\n",
    "            i += 1\n",
    "        return row\n",
    "n = 5\n",
    "S = Solution()\n",
    "print(S.arrangeCoins(n))"
   ]
  },
  {
   "cell_type": "code",
   "execution_count": 1,
   "metadata": {},
   "outputs": [
    {
     "name": "stdout",
     "output_type": "stream",
     "text": [
      "5\n"
     ]
    }
   ],
   "source": [
    "# Given an integer array nums sorted in non-decreasing order, remove the duplicates in-place such that each unique element appears only once. The relative order of the elements should be kept the same. Then return the number of unique elements in nums.\n",
    "# Consider the number of unique elements of nums to be k, to get accepted, you need to do the following things:\n",
    "# Change the array nums such that the first k elements of nums contain the unique elements in the order they were present in nums initially. The remaining elements of nums are not important as well as the size of nums.\n",
    "# Return k.\n",
    "\n",
    "class Solution:\n",
    "    def removeDuplicates(self,nums):\n",
    "\n",
    "        k = 1\n",
    "        for i in range(1, len(nums)):\n",
    "            if nums[i] != nums[i - 1]:\n",
    "                nums[k] = nums[i]\n",
    "                k += 1\n",
    "        return k\n",
    "    \n",
    "nums = [0,0,1,1,1,2,2,3,3,4]\n",
    "S = Solution()\n",
    "print(S.removeDuplicates(nums))"
   ]
  },
  {
   "cell_type": "code",
   "execution_count": null,
   "metadata": {},
   "outputs": [],
   "source": []
  }
 ],
 "metadata": {
  "kernelspec": {
   "display_name": "Python 3",
   "language": "python",
   "name": "python3"
  },
  "language_info": {
   "codemirror_mode": {
    "name": "ipython",
    "version": 3
   },
   "file_extension": ".py",
   "mimetype": "text/x-python",
   "name": "python",
   "nbconvert_exporter": "python",
   "pygments_lexer": "ipython3",
   "version": "3.11.6"
  },
  "orig_nbformat": 4
 },
 "nbformat": 4,
 "nbformat_minor": 2
}
